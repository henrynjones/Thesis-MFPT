{
 "cells": [
  {
   "cell_type": "code",
   "execution_count": 1,
   "metadata": {},
   "outputs": [],
   "source": [
    "import numpy as np\n",
    "import matplotlib.pyplot as plt"
   ]
  },
  {
   "cell_type": "code",
   "execution_count": 2,
   "metadata": {},
   "outputs": [
    {
     "name": "stdout",
     "output_type": "stream",
     "text": [
      "(100, 1)\n",
      "(1, 100)\n",
      "(array([0, 0, 0, 0, 0, 0, 0, 0, 0, 0, 0, 0, 0]), array([13, 21, 27, 35, 41, 43, 49, 59, 67, 69, 71, 75, 79]))\n"
     ]
    }
   ],
   "source": [
    "steps=100\n",
    "start_pos = 0.96\n",
    "s_inc = 0.02\n",
    "#1d stuff\n",
    "basisvects = np.array([-s_inc,+s_inc])\n",
    "\n",
    "#steps in out walk for now\n",
    "\n",
    "#boundaries for folding in\n",
    "boundaries = np.array([0, 1])\n",
    "csize = np.diff(boundaries, axis=0).ravel()\n",
    "\n",
    "\n",
    "#randomarr=basisvects[np.random.randint(0,int(basisvects.size/2),size=(numpts,steps))]\n",
    "#now we do cumulativesum\n",
    "#set up functions\n",
    "#steps= insteps\n",
    "np.random.seed(2)\n",
    "numpts= int(1) #size counts both columns of our x,y matrix\n",
    "#twodboundaries = np.tile(boundaries[0],(numpts,1)).T\n",
    "#twodsize = np.tile(csize,(numpts,1)).T  \n",
    "summarr=np.swapaxes(np.cumsum(basisvects[np.random.randint(0,int(basisvects.size),size=(numpts,steps))],axis=1),1,0) #this might have to be axis=1 now\n",
    "print(np.shape(summarr))\n",
    "trajectory_fold = np.abs((summarr + start_pos - boundaries[0] + csize) % (2 * csize) - csize) + boundaries[0]\n",
    "trajectory_fold = np.swapaxes(trajectory_fold,1,0)\n",
    "print(np.shape(trajectory_fold))\n",
    "trickier = np.where(trajectory_fold[:,:].round(decimals=4) ==1.0)\n",
    "print(trickier)"
   ]
  },
  {
   "cell_type": "markdown",
   "metadata": {},
   "source": [
    "### We can see that the folding in works as expected"
   ]
  },
  {
   "cell_type": "code",
   "execution_count": 3,
   "metadata": {},
   "outputs": [
    {
     "data": {
      "image/png": "[encoded data removed]",
      "text/plain": [
       "<Figure size 432x288 with 1 Axes>"
      ]
     },
     "metadata": {
      "needs_background": "light"
     },
     "output_type": "display_data"
    },
    {
     "name": "stdout",
     "output_type": "stream",
     "text": [
      "[1]\n"
     ]
    }
   ],
   "source": [
    "newfig = plt.figure()\n",
    "axes = plt.axes()\n",
    "\n",
    "axes.plot(trajectory_fold[0,12:15],np.arange(3))\n",
    "axes.plot(start_pos+summarr[12:15],np.arange(3))\n",
    "#axes.plot(trajectory_fold[0,:2],np.arange(2))\n",
    "#axes.plot(start_pos+summarr[:2],np.arange(2))\n",
    "axes.legend(['trajectory_fold','summarr'])\n",
    "plt.show()\n",
    "print(csize)"
   ]
  },
  {
   "cell_type": "markdown",
   "metadata": {},
   "source": [
    "## Check the math on folding things into domains"
   ]
  },
  {
   "cell_type": "markdown",
   "metadata": {},
   "source": [
    "Say summarrr = 0.04, start_pos = 0.98\n",
    "\n",
    "\n",
    "abs(summarr + start_pos - boundaries[0] + csize) % (2 * csize) - csize) + boundaries[0]\n",
    "csize = [1], I think this is an array\n",
    "\n",
    "Then out math says be have \n",
    "\n",
    "abs(0.04 + 0.98 - 0 + 1) % (2*1) - 1) + 0\n",
    "= abs(2.02 % 2 - 1) + 0\n",
    "= abs(0.02 -1 )\n",
    "= abs(-0.98) = 0.98\n",
    "\n"
   ]
  }
 ],
 "metadata": {
  "kernelspec": {
   "display_name": "Python 3.10.4 ('myenv')",
   "language": "python",
   "name": "python3"
  },
  "language_info": {
   "codemirror_mode": {
    "name": "ipython",
    "version": 3
   },
   "file_extension": ".py",
   "mimetype": "text/x-python",
   "name": "python",
   "nbconvert_exporter": "python",
   "pygments_lexer": "ipython3",
   "version": "3.10.4"
  },
  "orig_nbformat": 4,
  "vscode": {
   "interpreter": {
    "hash": "6e2636eb215b6e9e66341f572779afded05f0b17e732bf5e8559c2be1d0c96dc"
   }
  }
 },
 "nbformat": 4,
 "nbformat_minor": 2
}
